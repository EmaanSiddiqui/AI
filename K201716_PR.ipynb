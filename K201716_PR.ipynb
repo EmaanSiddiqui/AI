{
  "nbformat": 4,
  "nbformat_minor": 0,
  "metadata": {
    "colab": {
      "provenance": []
    },
    "kernelspec": {
      "name": "python3",
      "display_name": "Python 3"
    },
    "language_info": {
      "name": "python"
    }
  },
  "cells": [
    {
      "cell_type": "code",
      "execution_count": 14,
      "metadata": {
        "id": "fkQmDGEdZg-K"
      },
      "outputs": [],
      "source": [
        "import numpy as np\n",
        "import pandas as pd\n",
        "import matplotlib.pyplot as plt\n",
        "import seaborn as sns\n",
        "from sklearn.datasets import load_boston\n",
        "from sklearn.model_selection import train_test_split\n",
        "from sklearn.linear_model import LinearRegression\n",
        "from sklearn.preprocessing import PolynomialFeatures\n",
        "from sklearn.model_selection import cross_val_predict\n",
        "from sklearn.metrics import mean_squared_error, r2_score\n",
        "%matplotlib inline\n",
        "import warnings\n",
        "warnings.filterwarnings(\"ignore\")"
      ]
    },
    {
      "cell_type": "code",
      "source": [
        "dataset = load_boston()"
      ],
      "metadata": {
        "id": "-0RloI1DZljD"
      },
      "execution_count": 16,
      "outputs": []
    },
    {
      "cell_type": "code",
      "source": [
        "bos = pd.DataFrame(dataset.data, columns=dataset.feature_names)\n",
        "bos['PRICE'] = dataset.target\n",
        "print(\"features: {}\".format(list(bos.columns.values)))"
      ],
      "metadata": {
        "colab": {
          "base_uri": "https://localhost:8080/"
        },
        "id": "EEUTo16Da82h",
        "outputId": "d95d0403-0baf-42b6-eb13-ddf0a044e551"
      },
      "execution_count": 18,
      "outputs": [
        {
          "output_type": "stream",
          "name": "stdout",
          "text": [
            "features: ['CRIM', 'ZN', 'INDUS', 'CHAS', 'NOX', 'RM', 'AGE', 'DIS', 'RAD', 'TAX', 'PTRATIO', 'B', 'LSTAT', 'PRICE']\n"
          ]
        }
      ]
    },
    {
      "cell_type": "code",
      "source": [
        "X = pd.DataFrame(np.c_[bos['LSTAT'], bos['RM'], bos['CRIM'], bos['NOX']], columns=['LSTAT', 'RM', 'CRIM', 'NOX'])\n",
        "Y = bos['PRICE'] "
      ],
      "metadata": {
        "id": "XlhSZgfobJTT"
      },
      "execution_count": 19,
      "outputs": []
    },
    {
      "cell_type": "code",
      "source": [
        "X_train, X_test, Y_train, Y_test = train_test_split(X, Y, test_size=0.25, random_state=5)"
      ],
      "metadata": {
        "id": "_RZ_43QlbXZ_"
      },
      "execution_count": 20,
      "outputs": []
    },
    {
      "cell_type": "code",
      "source": [
        "#LINEAR REGRESSION\n",
        "lin = LinearRegression()\n",
        "lin.fit(X_train, Y_train)\n",
        "\n",
        "print('LR coefficients: {}'.format(lin.coef_))\n",
        "print('LR intercept: {}'.format(lin.intercept_))\n",
        "y_train_predict = lin.predict(X_train)\n",
        "b, m = np.polynomial.polynomial.polyfit(Y_train, y_train_predict, 1)"
      ],
      "metadata": {
        "colab": {
          "base_uri": "https://localhost:8080/"
        },
        "id": "Gb7n3RPrdDFW",
        "outputId": "303aadfd-3770-4c4b-a0c8-098dfb4d5977"
      },
      "execution_count": 21,
      "outputs": [
        {
          "output_type": "stream",
          "name": "stdout",
          "text": [
            "LR coefficients: [-0.61126741  5.10745758 -0.12620017  1.48644349]\n",
            "LR intercept: -2.2304479282335805\n"
          ]
        }
      ]
    },
    {
      "cell_type": "code",
      "source": [
        "rmse = (np.sqrt(mean_squared_error(Y_train, y_train_predict)))\n",
        "r2 = r2_score(Y_train, y_train_predict)\n",
        "print('Root mean squared error is ' , round(rmse,2))\n",
        "print('R2 score is ',round(r2,2))"
      ],
      "metadata": {
        "colab": {
          "base_uri": "https://localhost:8080/"
        },
        "id": "bd-0LR_jdG3v",
        "outputId": "54f44e26-2fca-4c04-d8ee-04d569d95543"
      },
      "execution_count": 26,
      "outputs": [
        {
          "output_type": "stream",
          "name": "stdout",
          "text": [
            "Root mean squared error is  5.46\n",
            "R2 score is  0.65\n"
          ]
        }
      ]
    },
    {
      "cell_type": "code",
      "source": [
        "y_test_predict = lin.predict([[20,5,2,4]])\n",
        "print(\"PRICE:\",y_test_predict)"
      ],
      "metadata": {
        "colab": {
          "base_uri": "https://localhost:8080/"
        },
        "id": "NNcz2WwrdfRY",
        "outputId": "17864390-fff3-4719-fd3f-e088410c5b84"
      },
      "execution_count": 27,
      "outputs": [
        {
          "output_type": "stream",
          "name": "stdout",
          "text": [
            "PRICE: [16.77486536]\n"
          ]
        }
      ]
    },
    {
      "cell_type": "code",
      "source": [
        "#POLYNOMIAL REGRESSION\n",
        "poly_features = PolynomialFeatures(degree=2)\n",
        "X_train_poly = poly_features.fit_transform(X_train)\n",
        "poly_model = LinearRegression()\n",
        "poly_model.fit(X_train_poly, Y_train)\n",
        "y_train_predicted = poly_model.predict(X_train_poly)\n",
        "y_test_predicted = poly_model.predict(poly_features.fit_transform(X_test))"
      ],
      "metadata": {
        "id": "w72vcpmEdih8"
      },
      "execution_count": 28,
      "outputs": []
    },
    {
      "cell_type": "code",
      "source": [
        "rmse_test = np.sqrt(mean_squared_error(Y_test, y_test_predicted))\n",
        "r2_test = r2_score(Y_test, y_test_predicted)\n",
        "print('Root mean squared error of test set is ' , round(rmse_test,2))\n",
        "print('R2 score of test set is ',round(r2_test,2))"
      ],
      "metadata": {
        "colab": {
          "base_uri": "https://localhost:8080/"
        },
        "id": "JOR7BZ2Hdph1",
        "outputId": "e3e897a0-37a9-4ef3-8333-437ab60b1432"
      },
      "execution_count": 29,
      "outputs": [
        {
          "output_type": "stream",
          "name": "stdout",
          "text": [
            "Root mean squared error of test set is  4.49\n",
            "R2 score of test set is  0.76\n"
          ]
        }
      ]
    },
    {
      "cell_type": "code",
      "source": [],
      "metadata": {
        "id": "zk224OCwdujb"
      },
      "execution_count": null,
      "outputs": []
    }
  ]
}