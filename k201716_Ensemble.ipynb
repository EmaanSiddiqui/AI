{
  "nbformat": 4,
  "nbformat_minor": 0,
  "metadata": {
    "colab": {
      "provenance": []
    },
    "kernelspec": {
      "name": "python3",
      "display_name": "Python 3"
    },
    "language_info": {
      "name": "python"
    }
  },
  "cells": [
    {
      "cell_type": "markdown",
      "source": [
        "### ***k201716 LAB ENSEMBLE STACKING BLENDING***"
      ],
      "metadata": {
        "id": "HRbd-8ciqykV"
      }
    },
    {
      "cell_type": "markdown",
      "source": [
        "# ***STACKING***"
      ],
      "metadata": {
        "id": "e5VvQDmcqXd_"
      }
    },
    {
      "cell_type": "code",
      "execution_count": 8,
      "metadata": {
        "colab": {
          "base_uri": "https://localhost:8080/"
        },
        "id": "_IQj0SPaiDc-",
        "outputId": "c4911bfc-afd9-49e0-9eec-6998816754d3"
      },
      "outputs": [
        {
          "output_type": "stream",
          "name": "stdout",
          "text": [
            ">lr 0.866 (0.029)\n",
            ">knn 0.931 (0.025)\n",
            ">dt 0.827 (0.048)\n",
            ">stacking 0.935 (0.022)\n"
          ]
        }
      ],
      "source": [
        "from numpy import mean\n",
        "from numpy import std\n",
        "from sklearn.datasets import make_classification\n",
        "from sklearn.model_selection import cross_val_score\n",
        "from sklearn.model_selection import RepeatedStratifiedKFold\n",
        "from sklearn.linear_model import LogisticRegression\n",
        "from sklearn.neighbors import KNeighborsClassifier\n",
        "from sklearn.tree import DecisionTreeClassifier\n",
        "from sklearn.ensemble import StackingClassifier\n",
        " \n",
        "def get_dataset():\n",
        "\tX, y = make_classification(n_samples=1000, n_features=20, n_informative=15, n_redundant=5, random_state=1)\n",
        "\treturn X, y\n",
        "\n",
        "def get_stacking():\n",
        "  level0 = list()\n",
        "  level0.append(('lr', LogisticRegression()))\n",
        "  level0.append(('knn', KNeighborsClassifier()))\n",
        "  level0.append(('dt', DecisionTreeClassifier()))\n",
        "  level1 = LogisticRegression()\n",
        "  model = StackingClassifier(estimators=level0, final_estimator=level1, cv=5)\n",
        "  return model\n",
        "\n",
        "def get_models():\n",
        "\tmodels = dict()\n",
        "\tmodels['lr'] = LogisticRegression()\n",
        "\tmodels['knn'] = KNeighborsClassifier()\n",
        "\tmodels['dt'] = DecisionTreeClassifier()\n",
        "\tmodels['stacking'] = get_stacking()\n",
        "\treturn models\n",
        "\n",
        "def evaluate_model(model, X, y):\n",
        "\tcv = RepeatedStratifiedKFold(n_splits=10, n_repeats=3, random_state=1)\n",
        "\tscores = cross_val_score(model, X, y, scoring='accuracy', cv=cv, n_jobs=-1, error_score='raise')\n",
        "\treturn scores\n",
        " \n",
        "X, y = get_dataset()\n",
        "models = get_models()\n",
        "\n",
        "results, names = list(), list()\n",
        "for name, model in models.items():\n",
        "\tscores = evaluate_model(model, X, y)\n",
        "\tresults.append(scores)\n",
        "\tnames.append(name)\n",
        "\tprint('>%s %.3f (%.3f)' % (name, mean(scores), std(scores)))"
      ]
    },
    {
      "cell_type": "markdown",
      "source": [
        "# ***BLENDING***"
      ],
      "metadata": {
        "id": "fwYAPP_3qd5V"
      }
    },
    {
      "cell_type": "code",
      "source": [
        "from sklearn.datasets import make_classification\n",
        "from sklearn.model_selection import train_test_split\n",
        "from sklearn.metrics import accuracy_score\n",
        "from sklearn.linear_model import LogisticRegression\n",
        "from sklearn.neighbors import KNeighborsClassifier\n",
        "from sklearn.tree import DecisionTreeClassifier\n",
        " \n",
        "def get_dataset():\n",
        "\tX, y = make_classification(n_samples=10000, n_features=20, n_informative=15, n_redundant=5, random_state=7)\n",
        "\treturn X, y\n",
        " \n",
        "def get_models():\n",
        "\tmodels = list()\n",
        "\tmodels.append(('lr', LogisticRegression()))\n",
        "\tmodels.append(('knn', KNeighborsClassifier()))\n",
        "\tmodels.append(('Dt', DecisionTreeClassifier()))\n",
        "\treturn models\n",
        " \n",
        "X, y = get_dataset()\n",
        "\n",
        "X_train_full, X_test, y_train_full, y_test = train_test_split(X, y, test_size=0.5, random_state=1)\n",
        "print('Train: %s, Test: %s' % (X_train_full.shape, X_test.shape))\n",
        "\n",
        "models = get_models()\n",
        "\n",
        "for name, model in models:\n",
        "\tmodel.fit(X_train_full, y_train_full)\n",
        "\tyhat = model.predict(X_test)\n",
        "\tscore = accuracy_score(y_test, yhat)\n",
        "\tprint('>%s Accuracy: %.3f' % (name, score*100))"
      ],
      "metadata": {
        "colab": {
          "base_uri": "https://localhost:8080/"
        },
        "id": "Yrx--O3miRv0",
        "outputId": "7d90b780-7bb0-4142-c1d4-9df8e5691c00"
      },
      "execution_count": 6,
      "outputs": [
        {
          "output_type": "stream",
          "name": "stdout",
          "text": [
            "Train: (5000, 20), Test: (5000, 20)\n",
            ">lr Accuracy: 87.800\n",
            ">knn Accuracy: 97.380\n",
            ">Dt Accuracy: 88.260\n"
          ]
        }
      ]
    },
    {
      "cell_type": "code",
      "source": [],
      "metadata": {
        "id": "CQKXfFJooUPJ"
      },
      "execution_count": null,
      "outputs": []
    }
  ]
}