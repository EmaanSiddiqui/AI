{
  "nbformat": 4,
  "nbformat_minor": 0,
  "metadata": {
    "colab": {
      "name": "lab6AI.ipynb",
      "provenance": [],
      "collapsed_sections": []
    },
    "kernelspec": {
      "name": "python3",
      "display_name": "Python 3"
    },
    "language_info": {
      "name": "python"
    }
  },
  "cells": [
    {
      "cell_type": "code",
      "execution_count": null,
      "metadata": {
        "id": "a8S-vH82scQq"
      },
      "outputs": [],
      "source": [
        "# heuristic best first search and A* \n",
        "# best first is neither complete nor optimal and is greedy search\n",
        "# A* is complete as well as optimal "
      ]
    },
    {
      "cell_type": "code",
      "source": [
        "v= 10 # graph of 10 nodes\n",
        "graph = [[] for i in range(v)] # makes a list from 0-13 [[],[],[],.......,[]]\n",
        "\n",
        "def addedge(x, y, heuristic):\n",
        "  graph[x].append((x,heuristic))  # [[1,3],[0,3],[],.......,[]]\n",
        "  graph[y].append((y,heuristic))\n",
        "\n",
        "addedge(0,1,3)\n",
        "addedge(0,2,2)\n",
        "addedge(1,3,4)\n",
        "addedge(1,4,1)\n",
        "addedge(2,5,3)\n",
        "addedge(2,6,1)\n",
        "addedge(5,7,5)\n",
        "addedge(6,8,2)\n",
        "addedge(6,9,3)\n",
        "\n",
        "print(graph)"
      ],
      "metadata": {
        "colab": {
          "base_uri": "https://localhost:8080/"
        },
        "id": "u1_8qDEAy3Ij",
        "outputId": "1f77951b-5de5-4d97-c8a3-c3774c065478"
      },
      "execution_count": null,
      "outputs": [
        {
          "output_type": "stream",
          "name": "stdout",
          "text": [
            "[[(0, 3), (0, 2)], [(1, 3), (1, 4), (1, 1)], [(2, 2), (2, 3), (2, 1)], [(3, 4)], [(4, 1)], [(5, 3), (5, 5)], [(6, 1), (6, 2), (6, 3)], [(7, 5)], [(8, 2)], [(9, 3)]]\n"
          ]
        }
      ]
    },
    {
      "cell_type": "code",
      "source": [
        "from queue import PriorityQueue\n",
        "def best_first_search(source, target, n):\n",
        "  visited=[]\n",
        "  for a in visited:\n",
        "    visited[a] = 0 * n\n",
        "    visited = 1\n",
        "    pq = PriorityQueue()\n",
        "    pq.put((0, source))\n",
        "    while pq.empty() == 0:\n",
        "        u = pq.get()[1]\n",
        "        # Displaying the path having lowest cost\n",
        "        print(u, end=\" \")\n",
        "        if u == target:\n",
        "            break\n",
        " \n",
        "    for v, c in graph[u]:\n",
        "      if visited[v] == 0:\n",
        "        visited[v] = 1\n",
        "        pq.put((c, v))\n",
        "        print()\n",
        "  \n"
      ],
      "metadata": {
        "id": "p6bz_kKv1QNo"
      },
      "execution_count": null,
      "outputs": []
    },
    {
      "cell_type": "code",
      "source": [
        "source=0\n",
        "target=9\n",
        "best_first_search(source, target, v)\n"
      ],
      "metadata": {
        "id": "DLWBUG7D7BYf"
      },
      "execution_count": null,
      "outputs": []
    },
    {
      "cell_type": "markdown",
      "source": [
        "TASK#6 "
      ],
      "metadata": {
        "id": "1Ykj6lJ_KnML"
      }
    },
    {
      "cell_type": "code",
      "source": [
        "import copy"
      ],
      "metadata": {
        "id": "xhtptlCjr6BN"
      },
      "execution_count": 6,
      "outputs": []
    },
    {
      "cell_type": "code",
      "source": [
        "src=[[1,2,3],['*',4,6],[7,5,8]]\n",
        "tar=[[1,2,3],[4,5,6],[7,8,'*']]\n",
        "\n",
        "class graph:\n",
        "  def __init__(self, src, tar):\n",
        "    self.src=src\n",
        "    self.current=src\n",
        "    self.tar=tar\n",
        "\n",
        "  def heuristic(self,state):\n",
        "    h = 0\n",
        "    for rows in range(0,3):\n",
        "      for columns in range(0,3):\n",
        "        if(state[rows][columns] != self.tar[rows][columns]):\n",
        "          h+=1 \n",
        "    return h\n",
        "\n",
        "  def possible(self,x,y):\n",
        "    if(x == 0 and y == 0):\n",
        "      available_moves = [\"right\",\"down\"]\n",
        "    elif(x == 0 and y == 1):\n",
        "      available_moves = [\"left\",\"down\",\"right\"]\n",
        "    elif(x == 0 and y == 2):\n",
        "      available_moves = [\"left\",\"down\"]\n",
        "    elif(x == 1 and y == 0):\n",
        "      available_moves = [\"up\",\"down\",\"right\"]\n",
        "    elif(x == 1 and y == 1):\n",
        "      available_moves = [\"left\",\"down\",\"right\",\"up\"]\n",
        "    elif(x == 1 and y == 2):\n",
        "      available_moves = [\"left\",\"down\",\"up\"]\n",
        "    elif(x == 2 and y == 0):\n",
        "      available_moves = [\"up\",\"down\",\"right\"]\n",
        "    elif(x == 2 and y == 1):\n",
        "      available_moves = [\"up\",\"left\",\"right\"]\n",
        "    elif(x == 2 and y == 2):\n",
        "      available_moves = [\"left\",\"down\",\"up\"]\n",
        "    return available_moves\n",
        "\n",
        "  def printmaze(self,maze):\n",
        "    for a in maze:\n",
        "      for b in a:\n",
        "        print(b ,end= \" \")\n",
        "      print()\n",
        "    print(\"\\n\")\n",
        "\n",
        "  def Algorithm(self):\n",
        "    while(self.current != self.tar):\n",
        "      self.printmaze(self.current)\n",
        "      self.moves()\n",
        "    self.printmaze(self.current)\n",
        "    print(\"Path Found :)\")\n",
        "\n",
        "  def position(self,state):\n",
        "    for r in range(0,3):\n",
        "      for c in range(0,3):\n",
        "        if(state[r][c]=='*'):\n",
        "          return r,c\n",
        "  \n",
        "  def swap(self,x,y,a,b):\n",
        "    changedmaze = copy.deepcopy(self.current)\n",
        "    temp = changedmaze[x][y]\n",
        "    changedmaze[x][y] = changedmaze[a][b]\n",
        "    changedmaze[a][b] = temp\n",
        "    return changedmaze\n",
        "\n",
        "  def moves(self):\n",
        "    final = self.current\n",
        "    #self.printmaze(state)\n",
        "    x,y = self.position(self.current)\n",
        "    m = self.possible(x,y)\n",
        "    for pos in m:\n",
        "      change = None\n",
        "      if pos == \"up\":\n",
        "        change = self.swap(x,y,x-1,y)\n",
        "      elif pos == \"down\":\n",
        "        change = self.swap(x,y,x+1,y)\n",
        "      elif pos == \"right\":\n",
        "        change = self.swap(x,y,x,y+1)\n",
        "      elif pos == \"left\":\n",
        "        change = self.swap(x,y,x,y-1)\n",
        "      if(self.heuristic(change) < self.heuristic(final)):\n",
        "        final = change\n",
        "    self.current = final\n",
        "\n",
        "maze = graph(src,tar)\n",
        "maze.Algorithm()\n",
        "\n",
        "    "
      ],
      "metadata": {
        "id": "w71W_s1JKsaI",
        "colab": {
          "base_uri": "https://localhost:8080/"
        },
        "outputId": "c5167993-fff7-4ea8-a384-24e16bd5856a"
      },
      "execution_count": 10,
      "outputs": [
        {
          "output_type": "stream",
          "name": "stdout",
          "text": [
            "1 2 3 \n",
            "* 4 6 \n",
            "7 5 8 \n",
            "\n",
            "\n",
            "1 2 3 \n",
            "4 * 6 \n",
            "7 5 8 \n",
            "\n",
            "\n",
            "1 2 3 \n",
            "4 5 6 \n",
            "7 * 8 \n",
            "\n",
            "\n",
            "1 2 3 \n",
            "4 5 6 \n",
            "7 8 * \n",
            "\n",
            "\n",
            "Path Found :)\n"
          ]
        }
      ]
    },
    {
      "cell_type": "code",
      "source": [
        ""
      ],
      "metadata": {
        "id": "egEAUfl6rQLO"
      },
      "execution_count": null,
      "outputs": []
    }
  ]
}