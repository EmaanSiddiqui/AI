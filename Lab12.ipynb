{
  "cells": [
    {
      "cell_type": "code",
      "execution_count": 2,
      "metadata": {
        "ExecuteTime": {
          "end_time": "2021-01-18T16:15:46.693564Z",
          "start_time": "2021-01-18T16:15:46.112568Z"
        },
        "id": "nDXSzUyVg3HT"
      },
      "outputs": [],
      "source": [
        "\n",
        "#20K-1682\n",
        "\n",
        "from IPython.display import clear_output\n",
        "import numpy as np\n",
        "import random\n",
        "import time\n",
        "import gym"
      ]
    },
    {
      "cell_type": "code",
      "execution_count": 4,
      "metadata": {
        "ExecuteTime": {
          "end_time": "2021-01-18T16:15:47.033563Z",
          "start_time": "2021-01-18T16:15:46.695566Z"
        },
        "colab": {
          "base_uri": "https://localhost:8080/"
        },
        "id": "uy_o0r3Zg3HV",
        "outputId": "6a6bd6e5-bd81-459f-fe56-65da9fe0ba76"
      },
      "outputs": [
        {
          "output_type": "stream",
          "name": "stdout",
          "text": [
            "+---------+\n",
            "|R: | : :\u001b[34;1mG\u001b[0m|\n",
            "| : | : : |\n",
            "| : : : : |\n",
            "| | : | :\u001b[43m \u001b[0m|\n",
            "|\u001b[35mY\u001b[0m| : |B: |\n",
            "+---------+\n",
            "\n"
          ]
        }
      ],
      "source": [
        "env = gym.make(\"Taxi-v3\")\n",
        "env.render()"
      ]
    },
    {
      "cell_type": "code",
      "execution_count": 5,
      "metadata": {
        "ExecuteTime": {
          "end_time": "2021-01-18T16:15:48.079566Z",
          "start_time": "2021-01-18T16:15:48.076563Z"
        },
        "colab": {
          "base_uri": "https://localhost:8080/"
        },
        "id": "NeY8V_OQg3HX",
        "outputId": "dbfb1bff-1a65-4d49-98a5-993799c8ca8b"
      },
      "outputs": [
        {
          "output_type": "stream",
          "name": "stdout",
          "text": [
            "Action size  6\n",
            "State size  500\n"
          ]
        }
      ],
      "source": [
        "\n",
        "action_size = env.action_space.n  # 6 = 0,1,2,3,4,5 as given in question\n",
        "print(\"Action size \", action_size) \n",
        "\n",
        "state_size = env.observation_space.n  # 500 size as given in question\n",
        "print(\"State size \", state_size)"
      ]
    },
    {
      "cell_type": "code",
      "execution_count": 6,
      "metadata": {
        "ExecuteTime": {
          "end_time": "2021-01-18T16:15:48.669041Z",
          "start_time": "2021-01-18T16:15:48.666037Z"
        },
        "colab": {
          "base_uri": "https://localhost:8080/"
        },
        "id": "KW2qvnCAg3HY",
        "outputId": "a6bf4cdc-6410-42a2-9d74-6a346daa7750"
      },
      "outputs": [
        {
          "output_type": "stream",
          "name": "stdout",
          "text": [
            "[[0. 0. 0. 0. 0. 0.]\n",
            " [0. 0. 0. 0. 0. 0.]\n",
            " [0. 0. 0. 0. 0. 0.]\n",
            " ...\n",
            " [0. 0. 0. 0. 0. 0.]\n",
            " [0. 0. 0. 0. 0. 0.]\n",
            " [0. 0. 0. 0. 0. 0.]]\n"
          ]
        }
      ],
      "source": [
        "qtable = np.zeros((state_size, action_size))\n",
        "print(qtable)"
      ]
    },
    {
      "cell_type": "code",
      "execution_count": 7,
      "metadata": {
        "ExecuteTime": {
          "end_time": "2021-01-18T16:15:49.616040Z",
          "start_time": "2021-01-18T16:15:49.613038Z"
        },
        "id": "EsVXRvEPg3Ha"
      },
      "outputs": [],
      "source": [
        "\n",
        "#searched for these values\n",
        "episodes = 30000            \n",
        "max_steps = 1000            \n",
        "lr = 0.3                    \n",
        "decay_fac = 0.00001         \n",
        "gamma = 0.90                "
      ]
    },
    {
      "cell_type": "code",
      "execution_count": 10,
      "metadata": {
        "ExecuteTime": {
          "end_time": "2021-01-18T16:18:08.337846Z",
          "start_time": "2021-01-18T16:15:50.267037Z"
        },
        "scrolled": true,
        "id": "s57mf0o7g3Hc"
      },
      "outputs": [],
      "source": [
        "for episode in [30000]:\n",
        "    \n",
        "    state = env.reset() \n",
        "    done = False        \n",
        "    lr -= decay_fac     \n",
        "    step = 0\n",
        "    \n",
        "    if lr <= 0:\n",
        "        break\n",
        "        \n",
        "    for step in range(max_steps):\n",
        "        action = env.action_space.sample()\n",
        "        new_state, reward, done, info = env.step(action)\n",
        "        if done == True:\n",
        "            qtable[state, action] = qtable[state, action]+lr*(reward+gamma*0-qtable[state,action])\n",
        "            break\n",
        "        else:\n",
        "            qtable[state, action] = qtable[state,action]+lr*(reward+gamma*np.max(qtable[new_state,:])-qtable[state,action])\n",
        "        state = new_state\n",
        "        \n",
        "    episode += 1\n"
      ]
    },
    {
      "cell_type": "code",
      "execution_count": 11,
      "metadata": {
        "ExecuteTime": {
          "end_time": "2021-01-18T16:18:15.856847Z",
          "start_time": "2021-01-18T16:18:08.338847Z"
        },
        "colab": {
          "base_uri": "https://localhost:8080/"
        },
        "id": "MuNxW0M_g3He",
        "outputId": "3bbadcb6-ebaf-4ef9-8e12-fe7f27c43717"
      },
      "outputs": [
        {
          "output_type": "stream",
          "name": "stdout",
          "text": [
            "+---------+\n",
            "|R: | : :G|\n",
            "| : | : : |\n",
            "| : : : : |\n",
            "| | : | : |\n",
            "|Y| : |\u001b[35m\u001b[34;1m\u001b[43mB\u001b[0m\u001b[0m\u001b[0m: |\n",
            "+---------+\n",
            "  (Dropoff)\n",
            "Reward =  10\n"
          ]
        }
      ],
      "source": [
        "\n",
        "state = env.reset()\n",
        "env.render()\n",
        "done = False\n",
        "total_reward = 0\n",
        "\n",
        "while(done == False):\n",
        "    action = np.argmax(qtable[state,:])\n",
        "    state, reward, done, info = env.step(action) \n",
        "    total_reward += reward \n",
        "    time.sleep(0.5)\n",
        "    clear_output(wait=True)\n",
        "    env.render()\n",
        "    print('Reward = ', total_reward)"
      ]
    },
    {
      "cell_type": "code",
      "execution_count": null,
      "metadata": {
        "id": "dZKp9lEjg3Hf"
      },
      "outputs": [],
      "source": [
        ""
      ]
    }
  ],
  "metadata": {
    "kernelspec": {
      "display_name": "Python 3",
      "language": "python",
      "name": "python3"
    },
    "language_info": {
      "codemirror_mode": {
        "name": "ipython",
        "version": 3
      },
      "file_extension": ".py",
      "mimetype": "text/x-python",
      "name": "python",
      "nbconvert_exporter": "python",
      "pygments_lexer": "ipython3",
      "version": "3.7.1"
    },
    "colab": {
      "name": "Lab12.ipynb",
      "provenance": []
    }
  },
  "nbformat": 4,
  "nbformat_minor": 0
}