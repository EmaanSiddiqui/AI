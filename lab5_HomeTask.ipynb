{
  "nbformat": 4,
  "nbformat_minor": 0,
  "metadata": {
    "colab": {
      "name": "lab5_HomeTask.ipynb",
      "provenance": [],
      "collapsed_sections": []
    },
    "kernelspec": {
      "name": "python3",
      "display_name": "Python 3"
    },
    "language_info": {
      "name": "python"
    }
  },
  "cells": [
    {
      "cell_type": "code",
      "execution_count": 2,
      "metadata": {
        "colab": {
          "base_uri": "https://localhost:8080/"
        },
        "id": "85Rd0nC7J9Lf",
        "outputId": "8ede72cb-e0f9-4cc5-ede4-b820f72b54b3"
      },
      "outputs": [
        {
          "output_type": "stream",
          "name": "stdout",
          "text": [
            "80\n"
          ]
        }
      ],
      "source": [
        "from sys import maxsize\n",
        "from itertools import permutations\n",
        "V = 4\n",
        "\n",
        "def travellingSalesmanProblem(graph, s):\n",
        " \n",
        "    # store all vertex apart from source vertex\n",
        "    vertex = []\n",
        "    for i in range(V):\n",
        "        if i != s:\n",
        "            vertex.append(i)\n",
        "\n",
        "    min_path = maxsize\n",
        "    next_permutation=permutations(vertex)\n",
        "    for i in next_permutation:\n",
        " \n",
        "        # store current path cost\n",
        "        current_pcost = 0\n",
        " \n",
        "        # compute current path cost\n",
        "        a = s\n",
        "        for j in i:\n",
        "            current_pcost += graph[a][j]\n",
        "            a = j\n",
        "        current_pcost += graph[a][s]\n",
        " \n",
        "        # update minimum\n",
        "        min_path = min(min_path, current_pcost)\n",
        "         \n",
        "    return min_path\n",
        "\n",
        "# Driver Code\n",
        "if __name__ == \"__main__\":\n",
        " \n",
        "    # matrix representation of graph given in question\n",
        "    graph = [[0, 10, 15, 20],\n",
        "             [10, 0, 35, 25],\n",
        "             [15, 35, 0, 30],\n",
        "             [20, 25, 30, 0]]\n",
        "    s = 0\n",
        "    print(travellingSalesmanProblem(graph, s))"
      ]
    },
    {
      "cell_type": "code",
      "source": [
        ""
      ],
      "metadata": {
        "id": "5MbHz5d_K3eu"
      },
      "execution_count": null,
      "outputs": []
    }
  ]
}