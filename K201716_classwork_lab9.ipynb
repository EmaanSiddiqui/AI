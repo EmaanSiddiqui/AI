{
  "nbformat": 4,
  "nbformat_minor": 0,
  "metadata": {
    "colab": {
      "name": "K201716_classwork_lab9",
      "provenance": [],
      "collapsed_sections": []
    },
    "kernelspec": {
      "name": "python3",
      "display_name": "Python 3"
    },
    "language_info": {
      "name": "python"
    }
  },
  "cells": [
    {
      "cell_type": "markdown",
      "source": [
        "QUESTION 2"
      ],
      "metadata": {
        "id": "uxvsaa35UYII"
      }
    },
    {
      "cell_type": "code",
      "source": [
        "graph=[[[2,4],[6,8]],[[1,2],[10,12]]]\n",
        "#print(max(min(max(graph))))\n",
        "\n",
        "alpha = -9999\n",
        "beta = 9999\n",
        "\n",
        "def alphaBetaPruning(state):\n",
        " \n",
        "  print(\"Optimal value is : \",maxi(state,alpha,beta))\n",
        "\n",
        "def maxi(state, a, b):\n",
        "  if terminal(state):\n",
        "    return state\n",
        "  else:\n",
        "    for child in state:\n",
        "      a = max(a,mini(child,a,b))\n",
        "      if (a >= b): \n",
        "        print(\"pruned nodes after node \",child) \n",
        "        break\n",
        "    return a\n",
        "\n",
        "def mini(state, a, b):\n",
        "  if terminal(state):\n",
        "    return state\n",
        "  else:\n",
        "    for child in state:\n",
        "      b = min(b,maxi(child,a,b))\n",
        "      if (a >= b): \n",
        "        print(\"pruned nodes after node \",child) \n",
        "        break\n",
        "    return b\n",
        "  \n",
        "def terminal(state):\n",
        "  if type(state) != type([]):\n",
        "    return True\n",
        "  else:\n",
        "    return False\n",
        "\n",
        "alphaBetaPruning(graph)\n",
        "\n",
        "  \n",
        "\n",
        "\n",
        "\n",
        "\n"
      ],
      "metadata": {
        "id": "x9AJ-M4YSecw",
        "colab": {
          "base_uri": "https://localhost:8080/"
        },
        "outputId": "dc6437db-104d-4c79-e9b2-ffcf5b87b2cf"
      },
      "execution_count": 20,
      "outputs": [
        {
          "output_type": "stream",
          "name": "stdout",
          "text": [
            "4\n",
            "pruned nodes after node  6\n",
            "pruned nodes after node  [1, 2]\n",
            "Optimal value is :  4\n"
          ]
        }
      ]
    },
    {
      "cell_type": "code",
      "source": [
        ""
      ],
      "metadata": {
        "id": "OvuhlAboZm7_"
      },
      "execution_count": null,
      "outputs": []
    }
  ]
}