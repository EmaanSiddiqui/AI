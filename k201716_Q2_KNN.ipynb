{
 "cells": [
  {
   "cell_type": "markdown",
   "id": "0eae76d9",
   "metadata": {},
   "source": [
    "# QUESTION 2 K201716 KNN"
   ]
  },
  {
   "cell_type": "code",
   "execution_count": 36,
   "id": "e5df2106",
   "metadata": {},
   "outputs": [],
   "source": [
    "import pandas as pd\n",
    "import numpy as np\n",
    "import math\n",
    "from sklearn.model_selection import train_test_split,cross_val_score\n",
    "from sklearn.metrics import classification_report\n",
    "from sklearn.metrics import confusion_matrix\n",
    "from sklearn.metrics import accuracy_score\n",
    "from sklearn.neighbors import KNeighborsClassifier\n",
    "from sklearn import datasets"
   ]
  },
  {
   "cell_type": "code",
   "execution_count": 48,
   "id": "1f3f5f87",
   "metadata": {},
   "outputs": [],
   "source": [
    "dataset = datasets.load_iris()\n",
    "X, y = dataset.data, dataset.target\n",
    "X_train, X_test, y_train, y_test = train_test_split(X, y, test_size=0.2, random_state=1074)\n"
   ]
  },
  {
   "cell_type": "code",
   "execution_count": 38,
   "id": "ede11abf",
   "metadata": {},
   "outputs": [],
   "source": [
    "def euclidean(x1, x2):\n",
    "    distance = np.sqrt(np.sum((x1-x2)**2))\n",
    "    return distance"
   ]
  },
  {
   "cell_type": "code",
   "execution_count": 57,
   "id": "211005d5",
   "metadata": {},
   "outputs": [],
   "source": [
    "from collections import Counter\n",
    "class KNN:\n",
    "    def __init__(self, k=3):\n",
    "        self.k = k\n",
    "\n",
    "    def fit(self, X, y):\n",
    "        self.X_train = X\n",
    "        self.y_train = y\n",
    "\n",
    "    def predict(self, X):\n",
    "        predictions = [self.helper_predict(x) for x in X]\n",
    "        return predictions\n",
    "\n",
    "    def helper_predict(self, x):\n",
    "        # computing the distance\n",
    "        distances = [euclidean(x, x_train) for x_train in self.X_train]\n",
    "    \n",
    "        # getting the closest k neighbours\n",
    "        k_indices = np.argsort(distances)[:self.k] #gets k closest neighbours\n",
    "        k_nearest_labels = [self.y_train[i] for i in k_indices] \n",
    "\n",
    "        # most common class \n",
    "        most_common = Counter(k_nearest_labels).most_common()\n",
    "        return most_common[0][0]"
   ]
  },
  {
   "cell_type": "code",
   "execution_count": 58,
   "id": "527dffe8",
   "metadata": {},
   "outputs": [
    {
     "name": "stdout",
     "output_type": "stream",
     "text": [
      "list of predictions:\n",
      " [2, 1, 1, 0, 1, 1, 2, 2, 0, 0, 1, 1, 0, 1, 0, 2, 1, 0, 0, 0, 0, 1, 1, 1, 2, 0, 2, 0, 2, 2]\n",
      "\n",
      "Accuracy of our model:  0.9666666666666667\n",
      "\n",
      "Confusion Matrix: \n",
      " [[11  0  0]\n",
      " [ 0 10  0]\n",
      " [ 0  1  8]]\n"
     ]
    }
   ],
   "source": [
    "clf = KNN(k=9)\n",
    "clf.fit(X_train, y_train)\n",
    "predictions = clf.predict(X_test)\n",
    "print(\"list of predictions:\\n\", predictions)\n",
    "accuracy = np.sum(predictions == y_test) / len(y_test)\n",
    "print(\"\\nAccuracy of our model: \", accuracy)\n",
    "matrix= confusion_matrix(y_test, predictions)\n",
    "print(\"\\nConfusion Matrix: \\n\", matrix)"
   ]
  },
  {
   "cell_type": "code",
   "execution_count": null,
   "id": "c476b473",
   "metadata": {},
   "outputs": [],
   "source": []
  }
 ],
 "metadata": {
  "kernelspec": {
   "display_name": "Python 3 (ipykernel)",
   "language": "python",
   "name": "python3"
  },
  "language_info": {
   "codemirror_mode": {
    "name": "ipython",
    "version": 3
   },
   "file_extension": ".py",
   "mimetype": "text/x-python",
   "name": "python",
   "nbconvert_exporter": "python",
   "pygments_lexer": "ipython3",
   "version": "3.9.12"
  }
 },
 "nbformat": 4,
 "nbformat_minor": 5
}
